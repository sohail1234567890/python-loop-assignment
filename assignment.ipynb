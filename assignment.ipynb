{
 "cells": [
  {
   "cell_type": "code",
   "execution_count": 1,
   "id": "7125845b-c750-4005-b452-d36c2a0fb672",
   "metadata": {},
   "outputs": [],
   "source": [
    "##1  Which keyword is used to create a function? Create a function to return a list of odd numbers in the\n",
    "#range of 1 to 25. "
   ]
  },
  {
   "cell_type": "code",
   "execution_count": null,
   "id": "9c1de8e3-a045-4310-8d60-5646c9d4d153",
   "metadata": {},
   "outputs": [],
   "source": [
    "def keyword is used to create a function"
   ]
  },
  {
   "cell_type": "code",
   "execution_count": null,
   "id": "570bf11a-dc39-4a8a-b163-6b97fae45688",
   "metadata": {},
   "outputs": [],
   "source": [
    "##2Write a python program to print the sum and product of the first 10 natural numbers using for\n",
    "and while loop."
   ]
  },
  {
   "cell_type": "code",
   "execution_count": 2,
   "id": "90cf53e7-948b-4bef-bd41-18ff0b7e87a7",
   "metadata": {},
   "outputs": [
    {
     "name": "stdout",
     "output_type": "stream",
     "text": [
      "The sum of the first 10 numbers is: 55\n"
     ]
    }
   ],
   "source": [
    "total_sum = 0 \n",
    " \n",
    "# Iterate through the range of numbers from 1 to 10 (inclusive) \n",
    "for number in range(1, 11): \n",
    "    # Add the current number to the sum variable \n",
    "    total_sum += number \n",
    " \n",
    "# Print the sum variable \n",
    "print(\"The sum of the first 10 numbers is:\", total_sum) "
   ]
  },
  {
   "cell_type": "code",
   "execution_count": 3,
   "id": "cc3bd43e-0a43-4c21-950a-79cb743f94c4",
   "metadata": {},
   "outputs": [
    {
     "name": "stdout",
     "output_type": "stream",
     "text": [
      "The sum is 55\n"
     ]
    }
   ],
   "source": [
    "num = 10\n",
    "\n",
    "if num < 0:\n",
    "   print(\"Enter a positive number\")\n",
    "else:\n",
    "   sum = 0\n",
    "   # use while loop to iterate until zero\n",
    "   while(num > 0):\n",
    "       sum += num\n",
    "       num -= 1\n",
    "   print(\"The sum is\", sum)"
   ]
  },
  {
   "cell_type": "code",
   "execution_count": 4,
   "id": "a0700e10-d5fd-48de-9149-a67052ffa920",
   "metadata": {},
   "outputs": [
    {
     "name": "stdout",
     "output_type": "stream",
     "text": [
      "[1, 8, 27, 64, 125, 216, 343, 512, 729, 1000, 1331, 1728, 2197, 2744, 3375, 4096, 4913, 5832, 6859, 8000, 9261, 10648, 12167, 13824, 15625, 17576, 19683, 21952, 24389, 27000, 29791, 32768, 35937, 39304, 42875, 46656, 50653, 54872, 59319, 64000, 68921, 74088, 79507, 85184, 91125, 97336, 103823, 110592, 117649, 125000, 132651, 140608, 148877, 157464, 166375, 175616, 185193, 195112, 205379, 216000, 226981, 238328, 250047, 262144, 274625, 287496, 300763, 314432, 328509, 343000, 357911, 373248, 389017, 405224, 421875, 438976, 456533, 474552, 493039, 512000, 531441, 551368, 571787, 592704, 614125, 636056, 658503, 681472, 704969, 729000, 753571, 778688, 804357, 830584, 857375, 884736, 912673, 941192, 970299, 1000000]\n"
     ]
    }
   ],
   "source": [
    "##3\n",
    "x=[] \n",
    "for i in range(1,101): \n",
    "\tx.append(i**3) \n",
    "print(x) "
   ]
  },
  {
   "cell_type": "code",
   "execution_count": null,
   "id": "5f7de3aa-1465-48a3-af53-e0c38fd939d9",
   "metadata": {},
   "outputs": [],
   "source": []
  }
 ],
 "metadata": {
  "kernelspec": {
   "display_name": "Python 3 (ipykernel)",
   "language": "python",
   "name": "python3"
  },
  "language_info": {
   "codemirror_mode": {
    "name": "ipython",
    "version": 3
   },
   "file_extension": ".py",
   "mimetype": "text/x-python",
   "name": "python",
   "nbconvert_exporter": "python",
   "pygments_lexer": "ipython3",
   "version": "3.10.8"
  }
 },
 "nbformat": 4,
 "nbformat_minor": 5
}
